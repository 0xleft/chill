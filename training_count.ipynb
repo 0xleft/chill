{
 "cells": [
  {
   "cell_type": "code",
   "execution_count": 1,
   "metadata": {},
   "outputs": [],
   "source": [
    "from keras.models import Sequential\n",
    "from keras.layers import Dense, Dropout, Conv2D, MaxPooling2D, Flatten, Activation, AveragePooling2D\n",
    "import tensorflow as tf"
   ]
  },
  {
   "cell_type": "code",
   "execution_count": 2,
   "metadata": {},
   "outputs": [],
   "source": [
    "model = Sequential()\n",
    "# input is 150x150x3\n",
    "model.add(Conv2D(128, (5, 5), input_shape=(150, 150, 3), activation='relu'))\n",
    "model.add(MaxPooling2D(pool_size=(2, 2)))\n",
    "model.add(Conv2D(128, (5, 5), activation='relu'))\n",
    "model.add(MaxPooling2D(pool_size=(2, 2)))\n",
    "model.add(Conv2D(128, (3, 3), activation='relu'))\n",
    "model.add(MaxPooling2D(pool_size=(2, 2)))\n",
    "model.add(Conv2D(128, (3, 3), activation='relu'))\n",
    "model.add(MaxPooling2D(pool_size=(2, 2)))\n",
    "model.add(Flatten())\n",
    "model.add(Dense(2000, activation='relu'))\n",
    "model.add(Dropout(0.1))\n",
    "model.add(Dense(2000, activation='relu'))\n",
    "model.add(Dropout(0.1))\n",
    "model.add(Dense(19, activation='softmax'))\n",
    "\n",
    "model.compile(loss='categorical_crossentropy',\n",
    "              optimizer='adam',\n",
    "              metrics=['accuracy'])"
   ]
  },
  {
   "cell_type": "code",
   "execution_count": 3,
   "metadata": {},
   "outputs": [],
   "source": [
    "# load adata\n",
    "import numpy as np\n",
    "import os\n",
    "from PIL import Image\n",
    "from sklearn.model_selection import train_test_split"
   ]
  },
  {
   "cell_type": "code",
   "execution_count": 4,
   "metadata": {},
   "outputs": [],
   "source": [
    "# load data\n",
    "# there are 19 classes 'it', 'ca', 'nl', 'fr', 'hu', 'be', 'us', 'gb', 'tr', 'mx', 'ph', 'bg', 'ro', 'at', 'sk', 'de', 'pl', 'ae', 'ch'\n",
    "\n",
    "classes = ['it', 'ca', 'nl', 'fr', 'hu', 'be', 'us', 'gb', 'tr', 'mx', 'ph', 'bg', 'ro', 'at', 'sk', 'de', 'pl', 'ae', 'ch']\n",
    "\n",
    "data = []\n",
    "labels = []\n",
    "\n",
    "for file in os.listdir(\"new_data/\"):\n",
    "    # it is a npy file\n",
    "    # the label file is the same name but .txt\n",
    "    if file.endswith(\".npy\"):\n",
    "        data.append(np.load(\"new_data/\" + file))\n",
    "        with open(\"new_data/\" + file[:-4] + \".txt\", \"r\") as f:\n",
    "            label = np.zeros(19)\n",
    "            label[classes.index(f.read().strip())] = 1\n",
    "            labels.append(label)\n",
    "\n",
    "data = np.array(data)\n",
    "labels = np.array(labels)"
   ]
  },
  {
   "cell_type": "code",
   "execution_count": 5,
   "metadata": {},
   "outputs": [
    {
     "name": "stdout",
     "output_type": "stream",
     "text": [
      "(3638, 150, 150, 3)\n",
      "(3638, 19)\n",
      "[0. 0. 0. 0. 0. 0. 0. 0. 0. 0. 0. 0. 1. 0. 0. 0. 0. 0. 0.]\n"
     ]
    }
   ],
   "source": [
    "print(data.shape)\n",
    "print(labels.shape)\n",
    "print(labels[0])"
   ]
  },
  {
   "cell_type": "code",
   "execution_count": 6,
   "metadata": {},
   "outputs": [],
   "source": [
    "# split data\n",
    "X_train, X_test, y_train, y_test = train_test_split(data, labels, test_size=0.2, random_state=42)"
   ]
  },
  {
   "cell_type": "code",
   "execution_count": 7,
   "metadata": {},
   "outputs": [
    {
     "name": "stdout",
     "output_type": "stream",
     "text": [
      "Epoch 1/10\n",
      "30/30 [==============================] - 10s 136ms/step - loss: 563.8452 - accuracy: 0.2962 - val_loss: 2.9021 - val_accuracy: 0.4341\n",
      "Epoch 2/10\n",
      "30/30 [==============================] - 3s 105ms/step - loss: 2.2835 - accuracy: 0.4055 - val_loss: 1.8062 - val_accuracy: 0.4423\n",
      "Epoch 3/10\n",
      "30/30 [==============================] - 3s 105ms/step - loss: 1.8409 - accuracy: 0.4134 - val_loss: 1.8724 - val_accuracy: 0.4382\n",
      "Epoch 4/10\n",
      "30/30 [==============================] - 3s 109ms/step - loss: 1.8299 - accuracy: 0.4089 - val_loss: 1.8308 - val_accuracy: 0.4437\n",
      "Epoch 5/10\n",
      "30/30 [==============================] - 3s 107ms/step - loss: 1.8278 - accuracy: 0.4117 - val_loss: 1.8370 - val_accuracy: 0.4478\n",
      "Epoch 6/10\n",
      "30/30 [==============================] - 3s 105ms/step - loss: 1.8186 - accuracy: 0.4151 - val_loss: 2.0526 - val_accuracy: 0.4409\n",
      "Epoch 7/10\n",
      "30/30 [==============================] - 3s 105ms/step - loss: 1.8125 - accuracy: 0.4265 - val_loss: 1.8231 - val_accuracy: 0.4451\n",
      "Epoch 8/10\n",
      "30/30 [==============================] - 3s 105ms/step - loss: 1.8109 - accuracy: 0.4186 - val_loss: 2.4446 - val_accuracy: 0.4299\n",
      "Epoch 9/10\n",
      "30/30 [==============================] - 3s 106ms/step - loss: 1.8224 - accuracy: 0.4230 - val_loss: 1.8954 - val_accuracy: 0.4478\n",
      "Epoch 10/10\n",
      "30/30 [==============================] - 3s 108ms/step - loss: 1.8158 - accuracy: 0.4148 - val_loss: 2.0674 - val_accuracy: 0.4464\n"
     ]
    },
    {
     "data": {
      "text/plain": [
       "<keras.callbacks.History at 0x2ce11ee0b20>"
      ]
     },
     "execution_count": 7,
     "metadata": {},
     "output_type": "execute_result"
    }
   ],
   "source": [
    "# train\n",
    "model.fit(X_train, y_train, batch_size=100, epochs=10, verbose=1, validation_data=(X_test, y_test))"
   ]
  },
  {
   "cell_type": "code",
   "execution_count": null,
   "metadata": {},
   "outputs": [],
   "source": []
  }
 ],
 "metadata": {
  "kernelspec": {
   "display_name": "Python 3 (ipykernel)",
   "language": "python",
   "name": "python3"
  },
  "language_info": {
   "codemirror_mode": {
    "name": "ipython",
    "version": 3
   },
   "file_extension": ".py",
   "mimetype": "text/x-python",
   "name": "python",
   "nbconvert_exporter": "python",
   "pygments_lexer": "ipython3",
   "version": "3.9.18"
  }
 },
 "nbformat": 4,
 "nbformat_minor": 4
}
