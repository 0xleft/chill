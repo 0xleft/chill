{
 "cells": [
  {
   "cell_type": "code",
   "execution_count": 8,
   "metadata": {},
   "outputs": [],
   "source": [
    "from keras.models import Sequential\n",
    "from keras.layers import Dense, Dropout, Conv2D, MaxPooling2D, Flatten, Activation, AveragePooling2D\n",
    "import tensorflow as tf\n",
    "\n",
    "classes = ['ro', 'ae', 'gb', 'cn', 'pl', 'ph', 'be', 'hu', 'de', 'us', 'bg', 'tr', 'sk', 'ca', 'ch', 'fr', 'it', 'at']"
   ]
  },
  {
   "cell_type": "code",
   "execution_count": 9,
   "metadata": {},
   "outputs": [],
   "source": [
    "model = Sequential()\n",
    "# input is 150x150x3\n",
    "model.add(Conv2D(128, (11, 11), input_shape=(150, 150, 3), activation='relu'))\n",
    "model.add(MaxPooling2D(pool_size=(2, 2)))\n",
    "model.add(Conv2D(128, (5, 5), activation='relu'))\n",
    "model.add(MaxPooling2D(pool_size=(2, 2)))\n",
    "model.add(Conv2D(128, (5, 5), activation='relu'))\n",
    "model.add(MaxPooling2D(pool_size=(2, 2)))\n",
    "model.add(Conv2D(200, (1, 1), activation='relu'))\n",
    "model.add(MaxPooling2D(pool_size=(2, 2)))\n",
    "model.add(Flatten())\n",
    "model.add(Dense(2048, activation='relu'))\n",
    "model.add(Dropout(0.2))\n",
    "model.add(Dense(2048, activation='relu'))\n",
    "model.add(Dropout(0.2))\n",
    "model.add(Dense(2048, activation='relu'))\n",
    "model.add(Dropout(0.1))\n",
    "model.add(Dense(len(classes), activation='softmax'))\n",
    "\n",
    "model.compile(loss='categorical_crossentropy',\n",
    "              optimizer='adam',\n",
    "              metrics=['accuracy'])"
   ]
  },
  {
   "cell_type": "code",
   "execution_count": 10,
   "metadata": {},
   "outputs": [],
   "source": [
    "# load adata\n",
    "import numpy as np\n",
    "import os\n",
    "from PIL import Image\n",
    "from sklearn.model_selection import train_test_split"
   ]
  },
  {
   "cell_type": "code",
   "execution_count": 11,
   "metadata": {},
   "outputs": [],
   "source": [
    "# load data\n",
    "data = []\n",
    "labels = []\n",
    "\n",
    "for file in os.listdir(\"new_data_2/\"):\n",
    "    # it is a npy file\n",
    "    # the label file is the same name but .txt\n",
    "    if file.endswith(\".npy\"):\n",
    "        data.append(np.load(\"new_data_2/\" + file))\n",
    "        with open(\"new_data_2/\" + file[:-4] + \".txt\", \"r\") as f:\n",
    "            label = np.zeros(len(classes))\n",
    "            label[classes.index(f.read().strip())] = 1\n",
    "            labels.append(label)\n",
    "\n",
    "data = np.array(data)\n",
    "labels = np.array(labels)"
   ]
  },
  {
   "cell_type": "code",
   "execution_count": 12,
   "metadata": {},
   "outputs": [
    {
     "name": "stdout",
     "output_type": "stream",
     "text": [
      "(16286, 150, 150, 3)\n",
      "(16286, 18)\n",
      "[1. 0. 0. 0. 0. 0. 0. 0. 0. 0. 0. 0. 0. 0. 0. 0. 0. 0.]\n"
     ]
    }
   ],
   "source": [
    "print(data.shape)\n",
    "print(labels.shape)\n",
    "print(labels[0])"
   ]
  },
  {
   "cell_type": "code",
   "execution_count": 13,
   "metadata": {},
   "outputs": [],
   "source": [
    "# split data\n",
    "X_train, X_test, y_train, y_test = train_test_split(data, labels, test_size=0.2, random_state=12)"
   ]
  },
  {
   "cell_type": "code",
   "execution_count": 14,
   "metadata": {},
   "outputs": [
    {
     "name": "stdout",
     "output_type": "stream",
     "text": [
      "Epoch 1/22\n",
      "131/131 [==============================] - 18s 131ms/step - loss: 8.2645 - accuracy: 0.5172 - val_loss: 1.2789 - val_accuracy: 0.5602\n",
      "Epoch 2/22\n",
      "131/131 [==============================] - 16s 123ms/step - loss: 1.0427 - accuracy: 0.6572 - val_loss: 0.8674 - val_accuracy: 0.7290\n",
      "Epoch 3/22\n",
      "131/131 [==============================] - 16s 124ms/step - loss: 0.8493 - accuracy: 0.7375 - val_loss: 0.7908 - val_accuracy: 0.7551\n",
      "Epoch 4/22\n",
      "131/131 [==============================] - 17s 130ms/step - loss: 0.6759 - accuracy: 0.7940 - val_loss: 0.6345 - val_accuracy: 0.7983\n",
      "Epoch 5/22\n",
      "131/131 [==============================] - 16s 120ms/step - loss: 0.6570 - accuracy: 0.8044 - val_loss: 0.6416 - val_accuracy: 0.8100\n",
      "Epoch 6/22\n",
      "131/131 [==============================] - 17s 128ms/step - loss: 0.4876 - accuracy: 0.8523 - val_loss: 0.5697 - val_accuracy: 0.8287\n",
      "Epoch 7/22\n",
      "131/131 [==============================] - 16s 121ms/step - loss: 0.3832 - accuracy: 0.8808 - val_loss: 0.4489 - val_accuracy: 0.8646\n",
      "Epoch 8/22\n",
      "131/131 [==============================] - 16s 119ms/step - loss: 0.3182 - accuracy: 0.9004 - val_loss: 0.5171 - val_accuracy: 0.8551\n",
      "Epoch 9/22\n",
      "131/131 [==============================] - 16s 122ms/step - loss: 0.2666 - accuracy: 0.9150 - val_loss: 0.5061 - val_accuracy: 0.8794\n",
      "Epoch 10/22\n",
      "131/131 [==============================] - 15s 117ms/step - loss: 0.2034 - accuracy: 0.9324 - val_loss: 0.3832 - val_accuracy: 0.8923\n",
      "Epoch 11/22\n",
      "131/131 [==============================] - 16s 123ms/step - loss: 0.1599 - accuracy: 0.9486 - val_loss: 0.4323 - val_accuracy: 0.8972\n",
      "Epoch 12/22\n",
      "131/131 [==============================] - 15s 117ms/step - loss: 0.1776 - accuracy: 0.9430 - val_loss: 0.4135 - val_accuracy: 0.8880\n",
      "Epoch 13/22\n",
      "131/131 [==============================] - 15s 118ms/step - loss: 0.1076 - accuracy: 0.9642 - val_loss: 0.5024 - val_accuracy: 0.8917\n",
      "Epoch 14/22\n",
      "131/131 [==============================] - 15s 118ms/step - loss: 0.1221 - accuracy: 0.9626 - val_loss: 0.4107 - val_accuracy: 0.9021\n",
      "Epoch 15/22\n",
      "131/131 [==============================] - 16s 122ms/step - loss: 0.1389 - accuracy: 0.9563 - val_loss: 0.4965 - val_accuracy: 0.8852\n",
      "Epoch 16/22\n",
      "131/131 [==============================] - 16s 120ms/step - loss: 0.1137 - accuracy: 0.9637 - val_loss: 0.5363 - val_accuracy: 0.8984\n",
      "Epoch 17/22\n",
      "131/131 [==============================] - 17s 129ms/step - loss: 0.0725 - accuracy: 0.9768 - val_loss: 0.5117 - val_accuracy: 0.8904\n",
      "Epoch 18/22\n",
      "131/131 [==============================] - 18s 137ms/step - loss: 0.0786 - accuracy: 0.9755 - val_loss: 0.6168 - val_accuracy: 0.8775\n",
      "Epoch 19/22\n",
      "131/131 [==============================] - 15s 117ms/step - loss: 0.1008 - accuracy: 0.9666 - val_loss: 0.4742 - val_accuracy: 0.8990\n",
      "Epoch 20/22\n",
      "131/131 [==============================] - 15s 117ms/step - loss: 0.0635 - accuracy: 0.9810 - val_loss: 0.6055 - val_accuracy: 0.8935\n",
      "Epoch 21/22\n",
      "131/131 [==============================] - 14s 105ms/step - loss: 0.0739 - accuracy: 0.9783 - val_loss: 0.4785 - val_accuracy: 0.8987\n",
      "Epoch 22/22\n",
      "131/131 [==============================] - 14s 106ms/step - loss: 0.0806 - accuracy: 0.9761 - val_loss: 0.5511 - val_accuracy: 0.8929\n"
     ]
    },
    {
     "data": {
      "text/plain": [
       "<keras.callbacks.History at 0x2274d30afd0>"
      ]
     },
     "execution_count": 14,
     "metadata": {},
     "output_type": "execute_result"
    }
   ],
   "source": [
    "# train\n",
    "model.fit(X_train, y_train, batch_size=100, epochs=22, verbose=1, validation_data=(X_test, y_test))"
   ]
  },
  {
   "cell_type": "code",
   "execution_count": 16,
   "metadata": {},
   "outputs": [],
   "source": [
    "model.save(\"model_0.9.h5\")"
   ]
  },
  {
   "cell_type": "code",
   "execution_count": null,
   "metadata": {},
   "outputs": [],
   "source": []
  }
 ],
 "metadata": {
  "kernelspec": {
   "display_name": "Python 3 (ipykernel)",
   "language": "python",
   "name": "python3"
  },
  "language_info": {
   "codemirror_mode": {
    "name": "ipython",
    "version": 3
   },
   "file_extension": ".py",
   "mimetype": "text/x-python",
   "name": "python",
   "nbconvert_exporter": "python",
   "pygments_lexer": "ipython3",
   "version": "3.9.18"
  }
 },
 "nbformat": 4,
 "nbformat_minor": 4
}
