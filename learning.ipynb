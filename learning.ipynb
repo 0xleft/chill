{
 "cells": [
  {
   "cell_type": "code",
   "execution_count": 1,
   "metadata": {
    "ExecuteTime": {
     "end_time": "2023-11-24T23:21:58.800680800Z",
     "start_time": "2023-11-24T23:21:42.809537Z"
    }
   },
   "outputs": [
    {
     "name": "stderr",
     "output_type": "stream",
     "text": [
      "C:\\Users\\adoma\\anaconda3\\lib\\site-packages\\scipy\\__init__.py:146: UserWarning: A NumPy version >=1.16.5 and <1.23.0 is required for this version of SciPy (detected version 1.24.2\n",
      "  warnings.warn(f\"A NumPy version >={np_minversion} and <{np_maxversion}\"\n"
     ]
    }
   ],
   "source": [
    "from keras.models import Sequential\n",
    "from keras.layers import Dense, Dropout, Conv2D, MaxPooling2D, Flatten, Activation"
   ]
  },
  {
   "cell_type": "code",
   "execution_count": 2,
   "metadata": {
    "ExecuteTime": {
     "end_time": "2023-11-24T23:22:02.469738100Z",
     "start_time": "2023-11-24T23:21:58.823680Z"
    }
   },
   "outputs": [],
   "source": [
    "# model\n",
    "model = Sequential()\n",
    "# input is 150x150x3\n",
    "model.add(Conv2D(32, (3, 3), input_shape=(150, 150, 3)))\n",
    "model.add(Activation('relu'))\n",
    "# 148x148x32\n",
    "model.add(MaxPooling2D(pool_size=(2, 2)))\n",
    "# 74x74x32\n",
    "model.add(Conv2D(32, (3, 3)))\n",
    "model.add(Activation('relu'))\n",
    "# 72x72x32\n",
    "model.add(MaxPooling2D(pool_size=(2, 2)))\n",
    "# 36x36x32\n",
    "model.add(Conv2D(64, (3, 3)))\n",
    "model.add(Activation('relu'))\n",
    "# 34x34x64\n",
    "model.add(MaxPooling2D(pool_size=(2, 2)))\n",
    "# 17x17x64\n",
    "model.add(Flatten())\n",
    "# 18496\n",
    "model.add(Dense(1000))\n",
    "model.add(Activation('relu'))\n",
    "model.add(Dense(1000))\n",
    "model.add(Activation('relu'))\n",
    "model.add(Dropout(0.5))\n",
    "model.add(Dense(2))\n",
    "model.add(Activation('tanh'))\n",
    "\n",
    "model.compile(loss='mean_squared_error',\n",
    "              optimizer='adam',\n",
    "              metrics=['accuracy'])"
   ]
  },
  {
   "cell_type": "code",
   "execution_count": 3,
   "outputs": [],
   "source": [
    "# load adata\n",
    "import numpy as np\n",
    "import os\n",
    "from PIL import Image\n",
    "from sklearn.model_selection import train_test_split"
   ],
   "metadata": {
    "collapsed": false,
    "ExecuteTime": {
     "end_time": "2023-11-24T23:22:12.081550800Z",
     "start_time": "2023-11-24T23:22:09.648031400Z"
    }
   }
  },
  {
   "cell_type": "code",
   "execution_count": 4,
   "outputs": [],
   "source": [
    "# load data\n",
    "data = []\n",
    "labels = []\n",
    "\n",
    "for file in os.listdir(\"data\"):\n",
    "    if file.endswith(\".jpg\"):\n",
    "        try:\n",
    "            img = Image.open(\"data/\" + file)\n",
    "            img = img.resize((150, 150))\n",
    "            data.append(np.array(img))\n",
    "\n",
    "            # open file that ends with .txt instead\n",
    "            file = file.replace(\".jpg\", \".txt\")\n",
    "            with open(\"data/\" + file) as f:\n",
    "                label = f.readlines()\n",
    "                # divide first by 90\n",
    "                # divide second by 180\n",
    "                label = [float(x) for x in label]\n",
    "                label[0] /= 90\n",
    "                label[1] /= 180\n",
    "                labels.append(label)\n",
    "        except:\n",
    "            pass"
   ],
   "metadata": {
    "collapsed": false,
    "ExecuteTime": {
     "end_time": "2023-11-24T23:22:33.643616300Z",
     "start_time": "2023-11-24T23:22:12.086548300Z"
    }
   }
  },
  {
   "cell_type": "code",
   "execution_count": 5,
   "outputs": [
    {
     "name": "stdout",
     "output_type": "stream",
     "text": [
      "4447\n",
      "4447\n",
      "(150, 150, 3)\n",
      "[0.528631125556098, 0.10236775080362956]\n"
     ]
    }
   ],
   "source": [
    "print(len(data))\n",
    "print(len(labels))\n",
    "print(data[0].shape)\n",
    "print(labels[120])"
   ],
   "metadata": {
    "collapsed": false,
    "ExecuteTime": {
     "end_time": "2023-11-24T23:22:33.657617300Z",
     "start_time": "2023-11-24T23:22:33.647618600Z"
    }
   }
  },
  {
   "cell_type": "code",
   "execution_count": 6,
   "outputs": [],
   "source": [
    "# split data\n",
    "X_train, X_test, y_train, y_test = train_test_split(data, labels, test_size=0.2, random_state=42)"
   ],
   "metadata": {
    "collapsed": false,
    "ExecuteTime": {
     "end_time": "2023-11-24T23:22:33.735693300Z",
     "start_time": "2023-11-24T23:22:33.662693600Z"
    }
   }
  },
  {
   "cell_type": "code",
   "execution_count": null,
   "outputs": [],
   "source": [
    "# train\n",
    "model.fit(np.array(X_train), np.array(y_train), batch_size=1, epochs=1, verbose=1)"
   ],
   "metadata": {
    "collapsed": false,
    "is_executing": true,
    "ExecuteTime": {
     "start_time": "2023-11-24T23:22:33.750693900Z"
    }
   }
  },
  {
   "cell_type": "code",
   "execution_count": null,
   "outputs": [],
   "source": [
    "# evaluate\n",
    "score = model.evaluate(np.array(X_test), np.array(y_test), verbose=1)\n",
    "print(score)"
   ],
   "metadata": {
    "collapsed": false,
    "is_executing": true
   }
  },
  {
   "cell_type": "code",
   "execution_count": null,
   "outputs": [],
   "source": [],
   "metadata": {
    "collapsed": false
   }
  }
 ],
 "metadata": {
  "kernelspec": {
   "display_name": "Python 3",
   "language": "python",
   "name": "python3"
  },
  "language_info": {
   "name": "python",
   "version": "3.10.11"
  }
 },
 "nbformat": 4,
 "nbformat_minor": 2
}
