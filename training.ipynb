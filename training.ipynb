{
 "cells": [
  {
   "cell_type": "code",
   "execution_count": null,
   "metadata": {},
   "outputs": [],
   "source": [
    "!pip install keras scikit-learn Pillow numpy"
   ]
  },
  {
   "cell_type": "code",
   "execution_count": null,
   "metadata": {
    "ExecuteTime": {
     "end_time": "2023-11-25T08:47:00.906894Z",
     "start_time": "2023-11-25T08:47:00.898897100Z"
    },
    "collapsed": false
   },
   "outputs": [],
   "source": [
    "from keras.models import Sequential\n",
    "from keras.layers import Dense, Dropout, Conv2D, MaxPooling2D, Flatten, Activation\n",
    "import tensorflow as tf"
   ]
  },
  {
   "cell_type": "code",
   "execution_count": null,
   "metadata": {
    "ExecuteTime": {
     "end_time": "2023-11-25T08:47:01.808918600Z",
     "start_time": "2023-11-25T08:47:01.727917200Z"
    }
   },
   "outputs": [],
   "source": [
    "# model\n",
    "model = Sequential()\n",
    "# input is 150x150x3\n",
    "model.add(Conv2D(150, (3, 3), input_shape=(150, 150, 3), activation='relu'))\n",
    "model.add(MaxPooling2D(pool_size=(2, 2)))\n",
    "model.add(Conv2D(150, (3, 3), activation='relu'))\n",
    "model.add(MaxPooling2D(pool_size=(2, 2)))\n",
    "model.add(Conv2D(150, (3, 3), activation='relu'))\n",
    "model.add(MaxPooling2D(pool_size=(2, 2)))\n",
    "model.add(Conv2D(150, (3, 3), activation='relu'))\n",
    "model.add(MaxPooling2D(pool_size=(2, 2)))\n",
    "model.add(Conv2D(64, (3, 3), activation='relu'))\n",
    "model.add(MaxPooling2D(pool_size=(2, 2)))\n",
    "model.add(Flatten())\n",
    "model.add(Dense(1540, activation='relu'))\n",
    "model.add(Dropout(0.3))\n",
    "model.add(Dense(2220, activation='relu'))\n",
    "model.add(Dense(3000, activation='relu'))\n",
    "model.add(Dense(4000, activation='relu'))\n",
    "model.add(Dense(5000, activation='relu'))\n",
    "model.add(Dense(1240, activation='linear'))\n",
    "model.add(Dropout(0.1))\n",
    "model.add(Dense(1044, activation='relu'))\n",
    "model.add(Dense(19, activation='softmax'))\n",
    "\n",
    "model.compile(loss='mean_squared_error',\n",
    "              optimizer='adam',\n",
    "              metrics=['accuracy'])"
   ]
  },
  {
   "cell_type": "code",
   "execution_count": null,
   "metadata": {
    "ExecuteTime": {
     "end_time": "2023-11-25T08:47:03.081566100Z",
     "start_time": "2023-11-25T08:47:02.396566100Z"
    },
    "collapsed": false
   },
   "outputs": [],
   "source": [
    "# load adata\n",
    "import numpy as np\n",
    "import os\n",
    "from PIL import Image\n",
    "from sklearn.model_selection import train_test_split"
   ]
  },
  {
   "cell_type": "code",
   "execution_count": null,
   "metadata": {
    "ExecuteTime": {
     "end_time": "2023-11-25T08:47:08.470112400Z",
     "start_time": "2023-11-25T08:47:03.604759800Z"
    },
    "collapsed": false
   },
   "outputs": [],
   "source": [
    "# load data\n",
    "data = []\n",
    "labels = []\n",
    "\n",
    "for file in os.listdir(\"data\"):\n",
    "    if file.endswith(\".jpg\"):\n",
    "        try:\n",
    "            img = Image.open(\"data/\" + file)\n",
    "            img = img.resize((150, 150))\n",
    "            data.append(np.array(img))\n",
    "\n",
    "            # open file that ends with .txt instead\n",
    "            file = file.replace(\".jpg\", \".txt\")\n",
    "            with open(\"data/\" + file) as f:\n",
    "                label = f.readlines()\n",
    "                # divide first by 90\n",
    "                # divide second by 180\n",
    "                label = [float(x) for x in label]\n",
    "                del label[1]\n",
    "                labels.append(label)\n",
    "        except:\n",
    "            pass"
   ]
  },
  {
   "cell_type": "code",
   "execution_count": null,
   "metadata": {
    "ExecuteTime": {
     "end_time": "2023-11-25T08:47:12.765633400Z",
     "start_time": "2023-11-25T08:47:12.748634Z"
    },
    "collapsed": false
   },
   "outputs": [],
   "source": [
    "print(len(data))\n",
    "print(len(labels))\n",
    "print(labels[0])"
   ]
  },
  {
   "cell_type": "code",
   "execution_count": null,
   "metadata": {
    "ExecuteTime": {
     "end_time": "2023-11-25T08:47:14.084667500Z",
     "start_time": "2023-11-25T08:47:14.062671800Z"
    },
    "collapsed": false
   },
   "outputs": [],
   "source": [
    "# split data\n",
    "X_train, X_test, y_train, y_test = train_test_split(data, labels, test_size=0.2, random_state=42)"
   ]
  },
  {
   "cell_type": "code",
   "execution_count": null,
   "metadata": {},
   "outputs": [],
   "source": [
    "print(len(y_train))\n",
    "print(len(X_test))"
   ]
  },
  {
   "cell_type": "code",
   "execution_count": 9,
   "metadata": {
    "ExecuteTime": {
     "start_time": "2023-11-25T08:47:15.016619100Z"
    },
    "collapsed": false,
    "is_executing": true
   },
   "outputs": [
    {
     "name": "stdout",
     "output_type": "stream",
     "text": [
      "49/49 [==============================] - 6s 125ms/step - loss: 30.9398 - accuracy: 0.0000e+00\n",
      "Epoch 21/100\n",
      "49/49 [==============================] - 6s 125ms/step - loss: 30.3732 - accuracy: 0.0000e+00\n",
      "Epoch 22/100\n",
      "49/49 [==============================] - 6s 125ms/step - loss: 31.0717 - accuracy: 0.0000e+00\n",
      "Epoch 23/100\n",
      "49/49 [==============================] - 6s 125ms/step - loss: 30.2875 - accuracy: 0.0000e+00\n",
      "Epoch 24/100\n",
      "49/49 [==============================] - 6s 125ms/step - loss: 30.0656 - accuracy: 0.0000e+00\n",
      "Epoch 25/100\n",
      "49/49 [==============================] - 6s 124ms/step - loss: 30.4547 - accuracy: 0.0000e+00\n",
      "Epoch 26/100\n",
      "49/49 [==============================] - 6s 116ms/step - loss: 30.5728 - accuracy: 0.0000e+00\n",
      "Epoch 27/100\n",
      "49/49 [==============================] - 6s 113ms/step - loss: 30.4584 - accuracy: 0.0000e+00\n",
      "Epoch 28/100\n",
      "49/49 [==============================] - 6s 130ms/step - loss: 30.2411 - accuracy: 0.0000e+00\n",
      "Epoch 29/100\n",
      "49/49 [==============================] - 7s 140ms/step - loss: 30.1665 - accuracy: 0.0000e+00\n",
      "Epoch 30/100\n",
      "49/49 [==============================] - 7s 139ms/step - loss: 32.7820 - accuracy: 0.0000e+00\n",
      "Epoch 31/100\n",
      "49/49 [==============================] - 6s 123ms/step - loss: 31.1037 - accuracy: 0.0000e+00\n",
      "Epoch 32/100\n",
      "49/49 [==============================] - 7s 143ms/step - loss: 32.5456 - accuracy: 0.0000e+00\n",
      "Epoch 33/100\n",
      "49/49 [==============================] - 7s 135ms/step - loss: 30.9408 - accuracy: 0.0000e+00\n",
      "Epoch 34/100\n",
      "49/49 [==============================] - 6s 127ms/step - loss: 30.1169 - accuracy: 0.0000e+00\n",
      "Epoch 35/100\n",
      "49/49 [==============================] - 7s 143ms/step - loss: 30.7461 - accuracy: 0.0000e+00\n",
      "Epoch 36/100\n",
      "49/49 [==============================] - 6s 133ms/step - loss: 30.1398 - accuracy: 0.0000e+00\n",
      "Epoch 37/100\n",
      "49/49 [==============================] - 6s 130ms/step - loss: 31.3867 - accuracy: 0.0000e+00\n",
      "Epoch 38/100\n",
      "49/49 [==============================] - 7s 143ms/step - loss: 30.4158 - accuracy: 0.0000e+00\n",
      "Epoch 39/100\n",
      "49/49 [==============================] - 6s 129ms/step - loss: 30.2909 - accuracy: 0.0000e+00\n",
      "Epoch 40/100\n",
      "49/49 [==============================] - 7s 134ms/step - loss: 30.5846 - accuracy: 0.0000e+00\n",
      "Epoch 41/100\n",
      "49/49 [==============================] - 7s 143ms/step - loss: 30.6416 - accuracy: 0.0000e+00\n",
      "Epoch 42/100\n",
      "49/49 [==============================] - 6s 125ms/step - loss: 30.0120 - accuracy: 0.0000e+00\n",
      "Epoch 43/100\n",
      "49/49 [==============================] - 7s 138ms/step - loss: 32.3500 - accuracy: 0.0000e+00\n",
      "Epoch 44/100\n",
      "49/49 [==============================] - 7s 141ms/step - loss: 30.8734 - accuracy: 0.0000e+00\n",
      "Epoch 45/100\n",
      "49/49 [==============================] - 6s 124ms/step - loss: 31.1190 - accuracy: 0.0000e+00\n",
      "Epoch 46/100\n",
      "49/49 [==============================] - 7s 141ms/step - loss: 30.5043 - accuracy: 0.0000e+00\n",
      "Epoch 47/100\n",
      "49/49 [==============================] - 7s 138ms/step - loss: 30.1878 - accuracy: 0.0000e+00\n",
      "Epoch 48/100\n",
      "49/49 [==============================] - 6s 125ms/step - loss: 31.4962 - accuracy: 0.0000e+00\n",
      "Epoch 49/100\n",
      "49/49 [==============================] - 7s 143ms/step - loss: 30.1342 - accuracy: 0.0000e+00\n",
      "Epoch 50/100\n",
      "49/49 [==============================] - 7s 135ms/step - loss: 30.1282 - accuracy: 0.0000e+00\n",
      "Epoch 51/100\n",
      "49/49 [==============================] - 6s 129ms/step - loss: 31.0472 - accuracy: 0.0000e+00\n",
      "Epoch 52/100\n",
      "49/49 [==============================] - 7s 143ms/step - loss: 32.2900 - accuracy: 0.0000e+00\n",
      "Epoch 53/100\n",
      "49/49 [==============================] - 6s 133ms/step - loss: 30.2706 - accuracy: 0.0000e+00\n",
      "Epoch 54/100\n",
      "49/49 [==============================] - 6s 131ms/step - loss: 30.7547 - accuracy: 0.0000e+00\n",
      "Epoch 55/100\n",
      "49/49 [==============================] - 7s 143ms/step - loss: 30.3828 - accuracy: 0.0000e+00\n",
      "Epoch 56/100\n",
      "49/49 [==============================] - 6s 129ms/step - loss: 30.0489 - accuracy: 0.0000e+00\n",
      "Epoch 57/100\n",
      "49/49 [==============================] - 7s 134ms/step - loss: 30.6039 - accuracy: 0.0000e+00\n",
      "Epoch 58/100\n",
      "49/49 [==============================] - 7s 143ms/step - loss: 31.1498 - accuracy: 0.0000e+00\n",
      "Epoch 59/100\n",
      "49/49 [==============================] - 6s 125ms/step - loss: 30.4463 - accuracy: 0.0000e+00\n",
      "Epoch 60/100\n",
      "49/49 [==============================] - 7s 137ms/step - loss: 29.9396 - accuracy: 0.0000e+00\n",
      "Epoch 61/100\n",
      "49/49 [==============================] - 7s 142ms/step - loss: 30.8105 - accuracy: 0.0000e+00\n",
      "Epoch 62/100\n",
      "49/49 [==============================] - 6s 125ms/step - loss: 31.1338 - accuracy: 0.0000e+00\n",
      "Epoch 63/100\n",
      "49/49 [==============================] - 7s 140ms/step - loss: 30.9902 - accuracy: 0.0000e+00\n",
      "Epoch 64/100\n",
      "49/49 [==============================] - 7s 138ms/step - loss: 31.2090 - accuracy: 0.0000e+00\n",
      "Epoch 65/100\n",
      "49/49 [==============================] - 6s 126ms/step - loss: 30.5178 - accuracy: 0.0000e+00\n",
      "Epoch 66/100\n",
      "49/49 [==============================] - 7s 144ms/step - loss: 30.9225 - accuracy: 0.0000e+00\n",
      "Epoch 67/100\n",
      "49/49 [==============================] - 7s 137ms/step - loss: 31.8205 - accuracy: 0.0000e+00\n",
      "Epoch 68/100\n",
      "49/49 [==============================] - 6s 128ms/step - loss: 30.5743 - accuracy: 0.0000e+00\n",
      "Epoch 69/100\n",
      "49/49 [==============================] - 7s 144ms/step - loss: 30.1712 - accuracy: 0.0000e+00\n",
      "Epoch 70/100\n",
      "49/49 [==============================] - 7s 134ms/step - loss: 30.7993 - accuracy: 0.0000e+00\n",
      "Epoch 71/100\n",
      "49/49 [==============================] - 6s 130ms/step - loss: 30.6534 - accuracy: 0.0000e+00\n",
      "Epoch 72/100\n",
      "49/49 [==============================] - 7s 144ms/step - loss: 30.3324 - accuracy: 0.0000e+00\n",
      "Epoch 73/100\n",
      "49/49 [==============================] - 6s 131ms/step - loss: 31.6569 - accuracy: 0.0000e+00\n",
      "Epoch 74/100\n",
      "49/49 [==============================] - 7s 133ms/step - loss: 30.7462 - accuracy: 0.0000e+00\n",
      "Epoch 75/100\n",
      "49/49 [==============================] - 7s 144ms/step - loss: 31.9334 - accuracy: 0.0000e+00\n",
      "Epoch 76/100\n",
      "49/49 [==============================] - 6s 130ms/step - loss: 30.3018 - accuracy: 0.0000e+00\n",
      "Epoch 77/100\n",
      "49/49 [==============================] - 7s 136ms/step - loss: 30.1604 - accuracy: 0.0000e+00\n",
      "Epoch 78/100\n",
      "49/49 [==============================] - 7s 144ms/step - loss: 31.1761 - accuracy: 0.0000e+00\n",
      "Epoch 79/100\n",
      "49/49 [==============================] - 6s 127ms/step - loss: 31.1793 - accuracy: 0.0000e+00\n",
      "Epoch 80/100\n",
      "49/49 [==============================] - 7s 138ms/step - loss: 31.3464 - accuracy: 0.0000e+00\n",
      "Epoch 81/100\n",
      "49/49 [==============================] - 7s 142ms/step - loss: 30.5056 - accuracy: 0.0000e+00\n",
      "Epoch 82/100\n",
      "49/49 [==============================] - 6s 125ms/step - loss: 30.1965 - accuracy: 0.0000e+00\n",
      "Epoch 83/100\n",
      "49/49 [==============================] - 7s 141ms/step - loss: 31.1051 - accuracy: 0.0000e+00\n",
      "Epoch 84/100\n",
      "49/49 [==============================] - 7s 139ms/step - loss: 30.5318 - accuracy: 0.0000e+00\n",
      "Epoch 85/100\n",
      "49/49 [==============================] - 6s 125ms/step - loss: 30.1023 - accuracy: 0.0000e+00\n",
      "Epoch 86/100\n",
      "49/49 [==============================] - 7s 143ms/step - loss: 30.5088 - accuracy: 0.0000e+00\n",
      "Epoch 87/100\n",
      "49/49 [==============================] - 7s 137ms/step - loss: 30.3299 - accuracy: 0.0000e+00\n",
      "Epoch 88/100\n",
      "49/49 [==============================] - 6s 128ms/step - loss: 30.3336 - accuracy: 0.0000e+00\n",
      "Epoch 89/100\n",
      "49/49 [==============================] - 7s 144ms/step - loss: 30.4260 - accuracy: 0.0000e+00\n",
      "Epoch 90/100\n",
      "49/49 [==============================] - 7s 135ms/step - loss: 30.4897 - accuracy: 0.0000e+00\n",
      "Epoch 91/100\n",
      "49/49 [==============================] - 6s 130ms/step - loss: 30.5731 - accuracy: 0.0000e+00\n",
      "Epoch 92/100\n",
      "49/49 [==============================] - 7s 144ms/step - loss: 30.2152 - accuracy: 0.0000e+00\n",
      "Epoch 93/100\n",
      "49/49 [==============================] - 6s 132ms/step - loss: 30.3591 - accuracy: 0.0000e+00\n",
      "Epoch 94/100\n",
      "49/49 [==============================] - 7s 133ms/step - loss: 30.4000 - accuracy: 0.0000e+00\n",
      "Epoch 95/100\n",
      "49/49 [==============================] - 7s 144ms/step - loss: 30.4070 - accuracy: 0.0000e+00\n",
      "Epoch 96/100\n",
      "49/49 [==============================] - 6s 128ms/step - loss: 30.9256 - accuracy: 0.0000e+00\n",
      "Epoch 97/100\n",
      "49/49 [==============================] - 7s 135ms/step - loss: 30.3527 - accuracy: 0.0000e+00\n",
      "Epoch 98/100\n",
      "49/49 [==============================] - 7s 145ms/step - loss: 30.6315 - accuracy: 0.0000e+00\n",
      "Epoch 99/100\n",
      "49/49 [==============================] - 6s 126ms/step - loss: 31.5979 - accuracy: 0.0000e+00\n",
      "Epoch 100/100\n",
      "49/49 [==============================] - 7s 138ms/step - loss: 31.5510 - accuracy: 0.0000e+00\n"
     ]
    },
    {
     "data": {
      "text/plain": [
       "<keras.callbacks.History at 0x22914da80a0>"
      ]
     },
     "execution_count": 9,
     "metadata": {},
     "output_type": "execute_result"
    }
   ],
   "source": [
    "# train\n",
    "model.fit(np.array(X_train), np.array(y_train), batch_size=100, epochs=100, verbose=1)"
   ]
  },
  {
   "cell_type": "code",
   "execution_count": 10,
   "metadata": {
    "collapsed": false,
    "is_executing": true
   },
   "outputs": [
    {
     "name": "stdout",
     "output_type": "stream",
     "text": [
      "39/39 [==============================] - 1s 17ms/step - loss: 32.1926 - accuracy: 0.0000e+00\n",
      "[32.19256591796875, 0.0]\n"
     ]
    }
   ],
   "source": [
    "# evaluate\n",
    "score = model.evaluate(np.array(X_test), np.array(y_test), verbose=1)\n",
    "print(score)"
   ]
  },
  {
   "cell_type": "code",
   "execution_count": 11,
   "metadata": {
    "ExecuteTime": {
     "end_time": "2023-11-25T08:46:26.853470500Z",
     "start_time": "2023-11-25T08:46:22.727924500Z"
    },
    "collapsed": false
   },
   "outputs": [],
   "source": [
    "# save model\n",
    "model.save('model.h5')"
   ]
  },
  {
   "cell_type": "code",
   "execution_count": 14,
   "metadata": {
    "collapsed": false
   },
   "outputs": [
    {
     "name": "stdout",
     "output_type": "stream",
     "text": [
      "1/1 [==============================] - 0s 122ms/step\n",
      "[[46.135685]]\n"
     ]
    }
   ],
   "source": [
    "# predicting images\n",
    "from keras.models import load_model\n",
    "import numpy as np\n",
    "\n",
    "model = load_model('model.h5')\n",
    "output = model.predict(np.array([np.array(Image.open(\"data/10.jpg\").resize((150, 150)))]))\n",
    "print(output)"
   ]
  }
 ],
 "metadata": {
  "kernelspec": {
   "display_name": "Python 3 (ipykernel)",
   "language": "python",
   "name": "python3"
  },
  "language_info": {
   "codemirror_mode": {
    "name": "ipython",
    "version": 3
   },
   "file_extension": ".py",
   "mimetype": "text/x-python",
   "name": "python",
   "nbconvert_exporter": "python",
   "pygments_lexer": "ipython3",
   "version": "3.9.18"
  }
 },
 "nbformat": 4,
 "nbformat_minor": 2
}
